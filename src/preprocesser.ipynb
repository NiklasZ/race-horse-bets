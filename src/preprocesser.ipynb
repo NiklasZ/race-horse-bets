{
 "cells": [
  {
   "cell_type": "code",
   "execution_count": 1,
   "metadata": {
    "collapsed": true
   },
   "outputs": [],
   "source": [
    "# Imports & Config\n",
    "import pandas\n",
    "from datetime import datetime\n",
    "from datetime import timedelta\n",
    "from tqdm import tqdm\n",
    "from logger import log\n",
    "\n",
    "preferred_cycle_time = 15  # this value is chosen because this is the median, mean and mode value in the data.\n",
    "permitted_difference = 120  # 120 seconds - controls max cycle gap time before we consider a race sequence useless."
   ]
  },
  {
   "cell_type": "code",
   "execution_count": 2,
   "outputs": [
    {
     "name": "stdout",
     "output_type": "stream",
     "text": [
      "17:30:16: Read in file of 3163 races, comprising 15648648 rows\n"
     ]
    }
   ],
   "source": [
    "def get_whole_file(file_path: str) -> pandas.DataFrame:\n",
    "    df = pandas.read_csv(file_path, dtype={'asatdatestr': str,  # bet cycle date\n",
    "                                           'asattimestr': str,  # bet cycle time\n",
    "                                           # These ids probably form a unique composite of some sort\n",
    "                                           'meetid': str,  # 2 unique ids\n",
    "                                           'performanceid': str,  # 290 unique ids\n",
    "                                           'raceid': str,  # 11 unique ids\n",
    "                                           # Seems to be combo of asatdate+meetid+performanceid+raceid\n",
    "                                           'refid': str,\n",
    "                                           'type': str,  # FINAL or INTER, but what does it mean?\n",
    "                                           # bet type: place, win, quinella and omni.\n",
    "                                           # Different types allow different bet combinations and accordingly pool dimensions.\n",
    "                                           'pool': str,\n",
    "                                           'ccy': str,  # currency: 83% HKD and 17% GBP\n",
    "                                           'fectaflag': str,  # no idea what this is, but always G\n",
    "                                           'dimension': str,\n",
    "                                           # dimensionality of bet data in below entries.\n",
    "                                           'dimension_x': str,  # dimension x value\n",
    "                                           'dimension_y': str,  # dimension y value\n",
    "                                           # horse number  and bet amount\n",
    "                                           # is the number of participating horses fixed or variable?\n",
    "                                           'horse_nb_1': str, 'bet_amount_horse_nb_1': float,\n",
    "                                           'horse_nb_2': str, 'bet_amount_horse_nb_2': float,\n",
    "                                           'horse_nb_3': str, 'bet_amount_horse_nb_3': float,\n",
    "                                           'horse_nb_4': str, 'bet_amount_horse_nb_4': float,\n",
    "                                           'horse_nb_5': str, 'bet_amount_horse_nb_5': float,\n",
    "                                           'horse_nb_6': str, 'bet_amount_horse_nb_6': float,\n",
    "                                           'horse_nb_7': str, 'bet_amount_horse_nb_7': float,\n",
    "                                           'horse_nb_8': str, 'bet_amount_horse_nb_8': float,\n",
    "                                           'horse_nb_9': str, 'bet_amount_horse_nb_9': float,\n",
    "                                           'horse_nb_10': str, 'bet_amount_horse_nb_10': float,\n",
    "                                           'horse_nb_11': str, 'bet_amount_horse_nb_11': float,\n",
    "                                           'horse_nb_12': str, 'bet_amount_horse_nb_12': float,\n",
    "                                           'horse_nb_13': str, 'bet_amount_horse_nb_13': float,\n",
    "                                           'horse_nb_14': str, 'bet_amount_horse_nb_14': float,\n",
    "                                           'asatdate': str,  # unknown date\n",
    "                                           'asatdatetime': str,  # unknown timestamp\n",
    "                                           # irrelevant DB properties\n",
    "                                           'uploadtimestamp': str,\n",
    "                                           'filepath': str,\n",
    "                                           'filename': str,\n",
    "                                           })\n",
    "    log(f\"Read in file of {df['refid'].nunique()} races, comprising {len(df.index)} rows\")\n",
    "    return df\n",
    "\n",
    "data = get_whole_file('../data/0_raw/query_result.csv')"
   ],
   "metadata": {
    "collapsed": false,
    "pycharm": {
     "name": "#%%\n"
    }
   }
  },
  {
   "cell_type": "code",
   "execution_count": 3,
   "outputs": [
    {
     "name": "stdout",
     "output_type": "stream",
     "text": [
      "17:30:18: Picked winning pool of 682640 rows\n"
     ]
    }
   ],
   "source": [
    "def pick_win_data(df: pandas.DataFrame) -> pandas.DataFrame:\n",
    "    win_only = df.loc[df['pool'] == 'WIN']\n",
    "    relevant_columns = win_only[\n",
    "        ['asattimestr', 'refid', 'type', 'ccy',\n",
    "         'bet_amount_horse_nb_1', 'bet_amount_horse_nb_2', 'bet_amount_horse_nb_3', 'bet_amount_horse_nb_4',\n",
    "         'bet_amount_horse_nb_5', 'bet_amount_horse_nb_6', 'bet_amount_horse_nb_7', 'bet_amount_horse_nb_8',\n",
    "         'bet_amount_horse_nb_9', 'bet_amount_horse_nb_10', 'bet_amount_horse_nb_11', 'bet_amount_horse_nb_12',\n",
    "         'bet_amount_horse_nb_13', 'bet_amount_horse_nb_14']]\n",
    "\n",
    "    log(f'Picked winning pool of {len(relevant_columns)} rows')\n",
    "    return relevant_columns\n",
    "\n",
    "data = pick_win_data(data)"
   ],
   "metadata": {
    "collapsed": false,
    "pycharm": {
     "name": "#%%\n"
    }
   }
  },
  {
   "cell_type": "code",
   "execution_count": 4,
   "outputs": [],
   "source": [
    "def create_unique_composite_row_id(df: pandas.DataFrame) -> pandas.DataFrame:\n",
    "    df['_id'] = df['refid'] + '-' + df['asattimestr']\n",
    "    return df\n",
    "\n",
    "data = create_unique_composite_row_id(data)"
   ],
   "metadata": {
    "collapsed": false,
    "pycharm": {
     "name": "#%%\n"
    }
   }
  },
  {
   "cell_type": "code",
   "execution_count": 5,
   "outputs": [
    {
     "name": "stdout",
     "output_type": "stream",
     "text": [
      "17:30:18: Added default 0 bet pools for missing horses\n"
     ]
    }
   ],
   "source": [
    "def fill_empty_bets(df: pandas.DataFrame) -> pandas.DataFrame:\n",
    "    for i in range(1, 15):\n",
    "        column = f'bet_amount_horse_nb_{i}'\n",
    "        df.loc[df[column].isnull(), column] = 0\n",
    "    log(f'Added default 0 bet pools for missing horses')\n",
    "\n",
    "    return df\n",
    "\n",
    "data = fill_empty_bets(data)"
   ],
   "metadata": {
    "collapsed": false,
    "pycharm": {
     "name": "#%%\n"
    }
   }
  },
  {
   "cell_type": "code",
   "execution_count": 6,
   "outputs": [
    {
     "name": "stdout",
     "output_type": "stream",
     "text": [
      "17:30:20: Converted all bet currencies to HKD\n"
     ]
    }
   ],
   "source": [
    "def convert_currencies(df: pandas.DataFrame) -> pandas.DataFrame:\n",
    "    for i in range(1, 15):\n",
    "        column = f'bet_amount_horse_nb_{i}'\n",
    "        df.loc[df['ccy'] == 'GBP', column] = df.loc[df['ccy'] == 'GBP', column] * 10\n",
    "    df.loc[df['ccy'] == 'GBP', 'ccy'] = 'HKD'\n",
    "\n",
    "    log(f'Converted all bet currencies to HKD')\n",
    "    return df\n",
    "\n",
    "data = convert_currencies(data)\n"
   ],
   "metadata": {
    "collapsed": false,
    "pycharm": {
     "name": "#%%\n"
    }
   }
  },
  {
   "cell_type": "code",
   "execution_count": 7,
   "outputs": [
    {
     "name": "stdout",
     "output_type": "stream",
     "text": [
      "17:30:20: Sorted data by date, id and time order\n"
     ]
    }
   ],
   "source": [
    "def sort_race_time_series(df: pandas.DataFrame) -> pandas.DataFrame:\n",
    "    sorted_df = df.sort_values(['_id'], ascending=[True])\n",
    "    log(f'Sorted data by date, id and time order')\n",
    "    return sorted_df\n",
    "\n",
    "data = sort_race_time_series(data)\n"
   ],
   "metadata": {
    "collapsed": false,
    "pycharm": {
     "name": "#%%\n"
    }
   }
  },
  {
   "cell_type": "code",
   "execution_count": 8,
   "outputs": [
    {
     "name": "stderr",
     "output_type": "stream",
     "text": [
      "100%|██████████| 3163/3163 [03:16<00:00, 16.08it/s]"
     ]
    },
    {
     "name": "stdout",
     "output_type": "stream",
     "text": [
      "17:33:37: Corrected 14 bet pool entries which spiked from 0 to some huge amount, then back to 0 for no reason.\n"
     ]
    },
    {
     "name": "stderr",
     "output_type": "stream",
     "text": [
      "\n"
     ]
    }
   ],
   "source": [
    "# Fixes strange cases where a bet pool spikes from 0 to a huge amount in one cycle and then goes back to 0.\n",
    "# The fix here, is just to set them to 0 as this data is noise.\n",
    "def fix_bet_spikes(df: pandas.DataFrame) -> pandas.DataFrame:\n",
    "    fixed_entries = 0\n",
    "    races = df['refid'].unique()\n",
    "    for refid in tqdm(races):\n",
    "        race = df.loc[df['refid'] == refid]\n",
    "        first_row = second_row = None\n",
    "        second_row_index = None\n",
    "\n",
    "        # We're passing over the rows in triplets as a window to check for the spike.\n",
    "        for index, third_row in race.iterrows():\n",
    "            if first_row is not None and second_row is not None:\n",
    "                for i in range(1, 15):\n",
    "                    column = f'bet_amount_horse_nb_{i}'\n",
    "                    if first_row[column] == 0 and second_row[column] != 0 and third_row[column] == 0:\n",
    "                        df.loc[second_row_index, column] = 0\n",
    "                        fixed_entries += 1\n",
    "\n",
    "            first_row = second_row\n",
    "            second_row = third_row\n",
    "            second_row_index = index\n",
    "\n",
    "    log(f'Corrected {fixed_entries} bet pool entries which spiked from 0 to some huge amount, then back to 0 for no '\n",
    "        f'reason.')\n",
    "\n",
    "    return df\n",
    "\n",
    "data = fix_bet_spikes(data)\n"
   ],
   "metadata": {
    "collapsed": false,
    "pycharm": {
     "name": "#%%\n"
    }
   }
  },
  {
   "cell_type": "code",
   "execution_count": 9,
   "outputs": [
    {
     "name": "stderr",
     "output_type": "stream",
     "text": [
      "3181it [05:06, 10.39it/s]\n"
     ]
    },
    {
     "name": "stdout",
     "output_type": "stream",
     "text": [
      "17:38:43: Removed 38 rows with bet pool timestamps after the FINAL bet cycle\n"
     ]
    }
   ],
   "source": [
    "# Expects a sorted df. Removes rows that chronologically appear after FINAL cycle of a race.\n",
    "def remove_invalid_timestamp_rows(df: pandas.DataFrame) -> pandas.DataFrame:\n",
    "    final_cycles = df.loc[df['type'] == 'FINAL']\n",
    "    invalid_indices = []\n",
    "    for index, row in tqdm(final_cycles.iterrows()):\n",
    "        invalid_rows = df.loc[(df['refid'] == row['refid']) & (df['asattimestr'] > row['asattimestr'])]\n",
    "        for i, r in invalid_rows.iterrows():\n",
    "            invalid_indices.append(i)\n",
    "\n",
    "    df.drop(index=invalid_indices, inplace=True)\n",
    "    log(f'Removed {len(invalid_indices)} rows with bet pool timestamps after the FINAL bet cycle')\n",
    "\n",
    "    return df\n",
    "\n",
    "data = remove_invalid_timestamp_rows(data)\n"
   ],
   "metadata": {
    "collapsed": false,
    "pycharm": {
     "name": "#%%\n"
    }
   }
  },
  {
   "cell_type": "code",
   "execution_count": 10,
   "outputs": [
    {
     "name": "stderr",
     "output_type": "stream",
     "text": [
      "100%|██████████| 3163/3163 [02:10<00:00, 24.30it/s]\n"
     ]
    },
    {
     "name": "stdout",
     "output_type": "stream",
     "text": [
      "17:40:54: Removed 54187 rows, part of sequences with at least one cycle gap > 120 seconds.\n"
     ]
    }
   ],
   "source": [
    "# Removes rows whose cycles are too discontiguous (their cycles are to irregular)\n",
    "def remove_too_discontiguous_cycles(df: pandas.DataFrame) -> pandas.DataFrame:\n",
    "    removed_row_count = 0\n",
    "    races = df['refid'].unique()\n",
    "    indices_to_remove = []\n",
    "\n",
    "    for refid in tqdm(races):\n",
    "        race = df.loc[df['refid'] == refid]\n",
    "        durations = pandas.to_timedelta(race['asattimestr']).dt.total_seconds()\n",
    "        visited_durations = []\n",
    "        visited_indices = []\n",
    "\n",
    "        for index, duration in durations.iteritems():\n",
    "            if visited_durations:\n",
    "                if duration - visited_durations[-1] > permitted_difference:\n",
    "                    indices_to_remove += visited_indices\n",
    "                    visited_durations = []\n",
    "                    visited_indices = []\n",
    "            visited_durations.append(duration)\n",
    "            visited_indices.append(index)\n",
    "\n",
    "    df.drop(index=indices_to_remove, inplace=True)\n",
    "    removed_row_count += len(indices_to_remove)\n",
    "\n",
    "    log(f'Removed {removed_row_count} rows, part of sequences with at least one cycle gap > {permitted_difference} seconds.')\n",
    "\n",
    "    return df\n",
    "\n",
    "data = remove_too_discontiguous_cycles(data)\n",
    "\n"
   ],
   "metadata": {
    "collapsed": false,
    "pycharm": {
     "name": "#%%\n"
    }
   }
  },
  {
   "cell_type": "code",
   "execution_count": 11,
   "outputs": [
    {
     "name": "stderr",
     "output_type": "stream",
     "text": [
      "100%|██████████| 3163/3163 [02:05<00:00, 25.28it/s]"
     ]
    },
    {
     "name": "stdout",
     "output_type": "stream",
     "text": [
      "17:42:59: Removed 57 races (57 rows) due to insufficient cycle data vs. the minimum of 25\n"
     ]
    },
    {
     "name": "stderr",
     "output_type": "stream",
     "text": [
      "\n"
     ]
    }
   ],
   "source": [
    "# Remove races with too few datapoints, as we'd have to pad with a lot of synthetic data for them to be usable,\n",
    "# at which point they will not add much value anyway.\n",
    "def remove_races_with_insufficient_data(df: pandas.DataFrame) -> pandas.DataFrame:\n",
    "    minimum_cycle_count = 25\n",
    "    removed_rows = 0\n",
    "    removed_races = 0\n",
    "    races = df['refid'].unique()\n",
    "\n",
    "    for refid in tqdm(races):\n",
    "        race = df.loc[df['refid'] == refid]\n",
    "        if len(race.index) < minimum_cycle_count:\n",
    "            df = df[df['refid'] != refid]\n",
    "            removed_races += 1\n",
    "            removed_rows += len(race.index)\n",
    "\n",
    "    log(f'Removed {removed_races} races ({removed_rows} rows) due to insufficient cycle data vs. '\n",
    "        f'the minimum of {minimum_cycle_count}')\n",
    "\n",
    "    return df\n",
    "\n",
    "data = remove_races_with_insufficient_data(data)\n"
   ],
   "metadata": {
    "collapsed": false,
    "pycharm": {
     "name": "#%%\n"
    }
   }
  },
  {
   "cell_type": "code",
   "execution_count": 12,
   "outputs": [
    {
     "name": "stderr",
     "output_type": "stream",
     "text": [
      "100%|██████████| 3106/3106 [13:18<00:00,  3.89it/s]\n"
     ]
    },
    {
     "name": "stdout",
     "output_type": "stream",
     "text": [
      "17:56:21: Synthesised 634679 new rows for 3106 races to space them into 15s gaps\n"
     ]
    }
   ],
   "source": [
    "# Returns the pair of rows that a given timestamp would best fit between.\n",
    "def linear_search_timestamps(race: pandas.DataFrame, timestamp: int) -> [pandas.Series, pandas.Series]:\n",
    "    later_timestamps = race.loc[race['_seconds'] >= timestamp]\n",
    "    earlier_timestamps = race.loc[race['_seconds'] < timestamp]\n",
    "\n",
    "    if len(later_timestamps.index) == 0 or len(earlier_timestamps.index) == 0:\n",
    "        return None\n",
    "\n",
    "    return earlier_timestamps.iloc[-1], later_timestamps.iloc[0]\n",
    "\n",
    "\n",
    "def generate_new_row(lower_row: pandas.Series, upper_row: pandas.Series, lower_weight: float, upper_weight: float,\n",
    "                     chosen_timestamp: float) -> dict:\n",
    "    new_row = {}\n",
    "    for column, value in lower_row.iteritems():\n",
    "        if column == 'asattimestr':\n",
    "            new_row[column] = str(timedelta(seconds=chosen_timestamp))\n",
    "        elif column == 'refid':\n",
    "            new_row[column] = lower_row[column]\n",
    "        elif column == 'type':\n",
    "            new_row[column] = lower_row[column]\n",
    "        elif column == 'ccy':\n",
    "            new_row[column] = lower_row[column]\n",
    "        elif column == '_id':\n",
    "            new_row[column] = lower_row['refid'] + '-' + str(timedelta(seconds=chosen_timestamp))\n",
    "        elif 'bet_amount_horse_nb_' in column:\n",
    "            new_row[column] = lower_weight * lower_row[column] + upper_weight * upper_row[column]\n",
    "\n",
    "    return new_row\n",
    "\n",
    "def synthesize_contiguous_timestamps(df: pandas.DataFrame) -> pandas.DataFrame:\n",
    "    df['_seconds'] = pandas.to_timedelta(df['asattimestr']).dt.total_seconds()\n",
    "    races = df['refid'].unique()\n",
    "\n",
    "    all_synthesized_rows = []\n",
    "    for refid in tqdm(races):\n",
    "        race = df.loc[df['refid'] == refid]\n",
    "        final_timestamp = race.iloc[-1]['_seconds']\n",
    "        next_timestamp = final_timestamp\n",
    "        synthesized_rows = []\n",
    "        while True:\n",
    "            next_timestamp -= preferred_cycle_time\n",
    "            surrounding_row_pair = linear_search_timestamps(race, next_timestamp)\n",
    "            # No more rows to synthesize\n",
    "            if surrounding_row_pair is None:\n",
    "                break\n",
    "\n",
    "            [lower_row, upper_row] = surrounding_row_pair\n",
    "            lower_bound_distance = next_timestamp - lower_row['_seconds']\n",
    "            upper_bound_distance = upper_row['_seconds'] - next_timestamp\n",
    "            # We subtract it from 1 as we want to increase the weight inversely to the distance.\n",
    "            # (i.e lower distance => higher weight)\n",
    "            normalised_lower = 1 - (lower_bound_distance / (upper_row['_seconds'] - lower_row['_seconds']))\n",
    "            normalised_upper = 1 - (upper_bound_distance / (upper_row['_seconds'] - lower_row['_seconds']))\n",
    "            new_row = generate_new_row(lower_row, upper_row, normalised_lower, normalised_upper, next_timestamp)\n",
    "            synthesized_rows.append(new_row)\n",
    "\n",
    "        final_row = race.iloc[-1]\n",
    "        synthesized_rows.reverse()\n",
    "        synthesized_rows.append(generate_new_row(final_row, final_row, 0, 1, final_row.loc['_seconds']))\n",
    "        all_synthesized_rows += synthesized_rows\n",
    "\n",
    "    result = pandas.DataFrame.from_records(all_synthesized_rows)\n",
    "\n",
    "    log(f'Synthesised {len(all_synthesized_rows)} new rows for {races.size} races to space them into '\n",
    "        f'{preferred_cycle_time}s gaps')\n",
    "\n",
    "    return result\n",
    "\n",
    "data = synthesize_contiguous_timestamps(data)"
   ],
   "metadata": {
    "collapsed": false,
    "pycharm": {
     "name": "#%%\n"
    }
   }
  },
  {
   "cell_type": "code",
   "execution_count": 13,
   "outputs": [
    {
     "name": "stderr",
     "output_type": "stream",
     "text": [
      "634679it [01:20, 7932.77it/s]"
     ]
    },
    {
     "name": "stdout",
     "output_type": "stream",
     "text": [
      "17:57:42: Found 57 rows with betting pools that drop by >100000 HKD in one step\n",
      "17:57:42: Validation complete.\n"
     ]
    },
    {
     "name": "stderr",
     "output_type": "stream",
     "text": [
      "\n"
     ]
    }
   ],
   "source": [
    "# A basic check to ensure the rows are in order is to check that bet total amounts only ever increase for a race.\n",
    "# This should work as money can only be added to betting pools, not removed.\n",
    "def validate(df: pandas.DataFrame):\n",
    "    current_race = None\n",
    "    max_drop_per_cycle = 100000\n",
    "    betting_array = [0] * 15\n",
    "    invalid_count = 0\n",
    "    deviations = {}\n",
    "    for index, row in tqdm(df.iterrows()):\n",
    "        out_of_order = False\n",
    "        if current_race != row['refid']:\n",
    "            current_race = row['refid']\n",
    "            betting_array = [0] * 15\n",
    "        for i in range(1, 15):\n",
    "            column = f'bet_amount_horse_nb_{i}'\n",
    "            # Considering only rows with discrepancies > 100k USD an issue worth looking into.\n",
    "            if row[column] < betting_array[i - 1] - max_drop_per_cycle:\n",
    "                out_of_order = True\n",
    "                diff = row[column] - betting_array[i - 1]\n",
    "                deviations[diff] = (deviations.get(diff) or 0) + 1\n",
    "            betting_array[i - 1] = row[column]\n",
    "\n",
    "        if out_of_order:\n",
    "            df.loc[index, '_suspicious'] = True\n",
    "            invalid_count += 1\n",
    "\n",
    "    log(f'Found {invalid_count} rows with betting pools that drop by >{max_drop_per_cycle} HKD in one step')\n",
    "    log('Validation complete.')\n",
    "\n",
    "validate(data)\n"
   ],
   "metadata": {
    "collapsed": false,
    "pycharm": {
     "name": "#%%\n"
    }
   }
  },
  {
   "cell_type": "code",
   "execution_count": 14,
   "outputs": [
    {
     "name": "stdout",
     "output_type": "stream",
     "text": [
      "17:57:42: Writing processed file of 634679 rows to ../data/win_only_data-2021-09-14T17-57-42.csv\n",
      "17:57:52: Finished\n"
     ]
    }
   ],
   "source": [
    "date_string = datetime.now().strftime('%Y-%m-%dT%H-%M-%S')\n",
    "output_path = f'../data/win_only_data-{date_string}.csv'\n",
    "\n",
    "log(f'Writing processed file of {len(data.index)} rows to {output_path}')\n",
    "\n",
    "data.to_csv(output_path)\n",
    "\n",
    "log(f'Finished')"
   ],
   "metadata": {
    "collapsed": false,
    "pycharm": {
     "name": "#%%\n"
    }
   }
  }
 ],
 "metadata": {
  "kernelspec": {
   "display_name": "Python 3",
   "language": "python",
   "name": "python3"
  },
  "language_info": {
   "codemirror_mode": {
    "name": "ipython",
    "version": 2
   },
   "file_extension": ".py",
   "mimetype": "text/x-python",
   "name": "python",
   "nbconvert_exporter": "python",
   "pygments_lexer": "ipython2",
   "version": "2.7.6"
  }
 },
 "nbformat": 4,
 "nbformat_minor": 0
}