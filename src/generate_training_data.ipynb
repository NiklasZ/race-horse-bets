{
 "cells": [
  {
   "cell_type": "code",
   "execution_count": 1,
   "metadata": {
    "collapsed": true
   },
   "outputs": [],
   "source": [
    "# Imports & Config\n",
    "from datetime import datetime\n",
    "import pandas\n",
    "from tqdm import tqdm\n",
    "from src.logger import log\n",
    "import hashlib\n",
    "import json\n",
    "import os\n",
    "\n",
    "config = {\n",
    "    'random_seed': 'bananarama',  # seed string for \"random\" behaviour when preparing training or training itself.\n",
    "    'prepared_file_name': 'win_only_data-2021-07-06T21-57-03.csv',  # input file\n",
    "    'prepared_file_hash': 'replace me with real value',\n",
    "    'target_race_length': 100,  # how many of the last bet cycles to use.\n",
    "}"
   ]
  },
  {
   "cell_type": "code",
   "execution_count": 2,
   "outputs": [
    {
     "name": "stdout",
     "output_type": "stream",
     "text": [
      "16:49:55: Read in file of 3106 races, comprising 634679 rows\n"
     ]
    }
   ],
   "source": [
    "def get_whole_file(file_path: str) -> pandas.DataFrame:\n",
    "    df = pandas.read_csv(file_path, dtype={\n",
    "        '_id': str,\n",
    "        '_seconds': float,\n",
    "        '_suspicious': str,\n",
    "        'asattimestr': str,  # bet cycle time\n",
    "        # These ids probably form a unique composite of some sort\n",
    "        # Seems to be combo of asatdate+meetid+performanceid+raceid\n",
    "        'refid': str,\n",
    "        'type': str,  # FINAL or INTER, but what does it mean?\n",
    "        # bet type: place, win, quinella and omni.\n",
    "        # Different types allow different bet combinations and accordingly pool dimensions.\n",
    "        'ccy': str,  # currency: 83% HKD and 17% GBP\n",
    "        # horse number  and bet amount\n",
    "        # is the number of participating horses fixed or variable?\n",
    "        'bet_amount_horse_nb_1': float,\n",
    "        'bet_amount_horse_nb_2': float,\n",
    "        'bet_amount_horse_nb_3': float,\n",
    "        'bet_amount_horse_nb_4': float,\n",
    "        'bet_amount_horse_nb_5': float,\n",
    "        'bet_amount_horse_nb_6': float,\n",
    "        'bet_amount_horse_nb_7': float,\n",
    "        'bet_amount_horse_nb_8': float,\n",
    "        'bet_amount_horse_nb_9': float,\n",
    "        'bet_amount_horse_nb_10': float,\n",
    "        'bet_amount_horse_nb_11': float,\n",
    "        'bet_amount_horse_nb_12': float,\n",
    "        'bet_amount_horse_nb_13': float,\n",
    "        'bet_amount_horse_nb_14': float,\n",
    "    })\n",
    "    log(f\"Read in file of {df['refid'].nunique()} races, comprising {len(df.index)} rows\")\n",
    "    return df\n",
    "\n",
    "def md5(fname):\n",
    "    hash_md5 = hashlib.md5()\n",
    "    with open(fname, \"rb\") as f:\n",
    "        for chunk in iter(lambda: f.read(4096), b\"\"):\n",
    "            hash_md5.update(chunk)\n",
    "    return hash_md5.hexdigest()\n",
    "\n",
    "path = f\"../data/1_cleaned/{config['prepared_file_name']}\"\n",
    "data = get_whole_file(path)\n",
    "config['prepared_file_hash'] = md5(path)"
   ],
   "metadata": {
    "collapsed": false,
    "pycharm": {
     "name": "#%%\n"
    }
   }
  },
  {
   "cell_type": "code",
   "execution_count": 3,
   "outputs": [
    {
     "name": "stdout",
     "output_type": "stream",
     "text": [
      "16:49:55: Reduced columns to training-relevant data\n"
     ]
    }
   ],
   "source": [
    "def pick_relevant_rows(df: pandas.DataFrame) -> pandas.DataFrame:\n",
    "    relevant_columns = df[\n",
    "        ['_id', 'refid',\n",
    "         'bet_amount_horse_nb_1', 'bet_amount_horse_nb_2', 'bet_amount_horse_nb_3', 'bet_amount_horse_nb_4',\n",
    "         'bet_amount_horse_nb_5', 'bet_amount_horse_nb_6', 'bet_amount_horse_nb_7', 'bet_amount_horse_nb_8',\n",
    "         'bet_amount_horse_nb_9', 'bet_amount_horse_nb_10', 'bet_amount_horse_nb_11', 'bet_amount_horse_nb_12',\n",
    "         'bet_amount_horse_nb_13', 'bet_amount_horse_nb_14']]\n",
    "\n",
    "    log('Reduced columns to training-relevant data')\n",
    "\n",
    "    return relevant_columns\n",
    "\n",
    "data = pick_relevant_rows(data)"
   ],
   "metadata": {
    "collapsed": false,
    "pycharm": {
     "name": "#%%\n"
    }
   }
  },
  {
   "cell_type": "code",
   "execution_count": 4,
   "outputs": [
    {
     "name": "stderr",
     "output_type": "stream",
     "text": [
      "100%|██████████| 3106/3106 [05:00<00:00, 10.34it/s]\n"
     ]
    },
    {
     "name": "stdout",
     "output_type": "stream",
     "text": [
      "16:54:56: Trimmed race cycles to size 25, keeping 3106 races\n"
     ]
    }
   ],
   "source": [
    "def trim_races_to_uniform_duration(df: pandas.DataFrame) -> pandas.DataFrame:\n",
    "    races = df['refid'].unique()\n",
    "    trimmed_races = []\n",
    "    for refid in tqdm(races):\n",
    "        race = df.loc[df['refid'] == refid]\n",
    "        if len(race.index) >= config['target_race_length']:\n",
    "            trimmed_races.append(race.tail(config['target_race_length']))\n",
    "\n",
    "\n",
    "    log(f\"Trimmed race cycles to size {config['target_race_length']}, keeping {len(trimmed_races)} races\")\n",
    "\n",
    "    return pandas.concat(trimmed_races)\n",
    "\n",
    "data = trim_races_to_uniform_duration(data)"
   ],
   "metadata": {
    "collapsed": false,
    "pycharm": {
     "name": "#%%\n"
    }
   }
  },
  {
   "cell_type": "code",
   "execution_count": 5,
   "outputs": [
    {
     "name": "stdout",
     "output_type": "stream",
     "text": [
      "16:54:57: Writing training data of 77650 rows to ../data/2_prepared/2021-08-13T16-54-57/data.csv\n",
      "16:54:58: Writing config of generated data to ../data/2_prepared/2021-08-13T16-54-57/config.json\n",
      "16:54:58: Finished\n"
     ]
    }
   ],
   "source": [
    "date_string = datetime.now().strftime('%Y-%m-%dT%H-%M-%S')\n",
    "output_folder = f'../data/2_prepared/{date_string}'\n",
    "output_path = f'{output_folder}/data.csv'\n",
    "output_config_path = f'{output_folder}/config.json'\n",
    "\n",
    "if not os.path.exists(output_folder):\n",
    "    os.mkdir(output_folder)\n",
    "\n",
    "log(f'Writing training data of {len(data.index)} rows to {output_path}')\n",
    "data.to_csv(output_path)\n",
    "\n",
    "log(f'Writing config of generated data to {output_config_path}')\n",
    "with open(output_config_path, 'w') as outfile:\n",
    "    json.dump(config, outfile, indent=4)\n",
    "\n",
    "log(f'Finished')"
   ],
   "metadata": {
    "collapsed": false,
    "pycharm": {
     "name": "#%%\n"
    }
   }
  }
 ],
 "metadata": {
  "kernelspec": {
   "display_name": "Python 3",
   "language": "python",
   "name": "python3"
  },
  "language_info": {
   "codemirror_mode": {
    "name": "ipython",
    "version": 2
   },
   "file_extension": ".py",
   "mimetype": "text/x-python",
   "name": "python",
   "nbconvert_exporter": "python",
   "pygments_lexer": "ipython2",
   "version": "2.7.6"
  }
 },
 "nbformat": 4,
 "nbformat_minor": 0
}